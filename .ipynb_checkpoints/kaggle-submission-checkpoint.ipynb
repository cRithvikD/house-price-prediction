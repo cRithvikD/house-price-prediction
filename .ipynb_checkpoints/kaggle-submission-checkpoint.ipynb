{
 "cells": [
  {
   "cell_type": "markdown",
   "id": "155ac5ce-8694-4c15-9af3-fb972f4a9592",
   "metadata": {},
   "source": [
    "## 1. Data Preprocessing"
   ]
  },
  {
   "cell_type": "code",
   "execution_count": 1,
   "id": "d18ac00c-5e7d-4af7-a470-2f5c7f4d953c",
   "metadata": {
    "id": "d18ac00c-5e7d-4af7-a470-2f5c7f4d953c"
   },
   "outputs": [],
   "source": [
    "# Import libraries\n",
    "import numpy as np\n",
    "import pandas as pd\n",
    "import spacy\n",
    "from sklearn.feature_extraction.text import CountVectorizer, TfidfVectorizer\n",
    "from sklearn.linear_model import LinearRegression\n",
    "from sklearn.metrics import mean_squared_error, r2_score\n",
    "from sklearn.model_selection import train_test_split\n",
    "from sklearn.preprocessing import StandardScaler\n",
    "import pickle\n"
   ]
  },
  {
   "cell_type": "code",
   "execution_count": 2,
   "id": "49941f12-e7e5-4c74-aa05-a9c617ee6c69",
   "metadata": {},
   "outputs": [],
   "source": [
    "# Read files\n",
    "\n",
    "# Open the file in binary read mode\n",
    "with open('data/train.pickle', 'rb') as file:\n",
    "    train = pickle.load(file)\n",
    "\n",
    "# Open the file in binary read mode\n",
    "with open('data/test_kaggle.pickle', 'rb') as file:\n",
    "    test = pickle.load(file)\n",
    "\n",
    "test = pd.DataFrame(test)\n",
    "train = pd.DataFrame(train)"
   ]
  },
  {
   "cell_type": "code",
   "execution_count": 3,
   "id": "e1362408-11b2-4a5c-afa4-49d30d9fa41b",
   "metadata": {},
   "outputs": [],
   "source": [
    "def data_preprocess(data):\n",
    "    df = data.copy()\n",
    "\n",
    "    df['house_size'] = df['features'].apply(lambda x: next((value for value in x if 'm2' in value), 0))\n",
    "    df['house_size'] = df['house_size'].str.replace(' m2', '')\n",
    "    df['house_size'] = df['house_size'].fillna(0).astype(float)\n",
    "\n",
    "    df['Number_Bedrooms'] = df['features'].apply(lambda x: next((value for value in x if 'hab' in value), 0))\n",
    "    df['Number_Bedrooms'] = df['Number_Bedrooms'].str.replace(' hab.', '')\n",
    "    df['Number_Bedrooms'] = df['Number_Bedrooms'].fillna(0).astype(int)\n",
    "\n",
    "    df['Number_Bathrooms'] = df['features'].apply(lambda x: next((value for value in x if 'baño' in value), 0))\n",
    "    df['Number_Bathrooms'] = df['Number_Bathrooms'].str.replace(' baño', '')\n",
    "    df['Number_Bathrooms'] = df['Number_Bathrooms'].str.replace('s', '')\n",
    "    df['Number_Bathrooms'] = df['Number_Bathrooms'].fillna(0).astype(int)\n",
    "    \n",
    "    df.drop(columns=['features', 'selltype', 'subtype', 'loc'], inplace=True)\n",
    "    return df"
   ]
  },
  {
   "cell_type": "code",
   "execution_count": 4,
   "id": "bdbed07a-9bd7-4ac6-b3f0-2d3baa0a1686",
   "metadata": {},
   "outputs": [],
   "source": [
    "# Preprocess data\n",
    "train = data_preprocess(train)\n",
    "train['price'] = train['price'].str.replace('€', '').astype(float)"
   ]
  },
  {
   "cell_type": "code",
   "execution_count": 5,
   "id": "99e1b4cc-ff0f-4a81-a207-2d601059a01c",
   "metadata": {},
   "outputs": [
    {
     "name": "stdout",
     "output_type": "stream",
     "text": [
      "<class 'pandas.core.frame.DataFrame'>\n",
      "RangeIndex: 132 entries, 0 to 131\n",
      "Data columns (total 7 columns):\n",
      " #   Column            Non-Null Count  Dtype  \n",
      "---  ------            --------------  -----  \n",
      " 0   title             132 non-null    object \n",
      " 1   loc_string        132 non-null    object \n",
      " 2   type              132 non-null    object \n",
      " 3   desc              132 non-null    object \n",
      " 4   house_size        132 non-null    float64\n",
      " 5   Number_Bedrooms   132 non-null    int64  \n",
      " 6   Number_Bathrooms  132 non-null    int64  \n",
      "dtypes: float64(1), int64(2), object(4)\n",
      "memory usage: 7.3+ KB\n"
     ]
    }
   ],
   "source": [
    "# Drop unnecessary columns\n",
    "test = data_preprocess(test)\n",
    "test.drop('description', axis=1, inplace=True)\n",
    "test.drop('id', axis=1, inplace=True)\n",
    "test.info()"
   ]
  },
  {
   "cell_type": "code",
   "execution_count": 3,
   "id": "f64d8050-a542-4e24-99c9-a64a17deccd4",
   "metadata": {},
   "outputs": [],
   "source": [
    "# Combine text columns\n",
    "train['combined'] = train['title'] + ' ' + train['desc']\n",
    "test['combined'] = test['title'] + ' ' + test['desc']"
   ]
  },
  {
   "cell_type": "markdown",
   "id": "5db003ee-2cb5-46a7-8e83-02931243a43f",
   "metadata": {},
   "source": [
    "## 2. Detect Mistyped Value"
   ]
  },
  {
   "cell_type": "code",
   "execution_count": 7,
   "id": "9d0845c3-e819-43c9-88db-2987b795cb9a",
   "metadata": {},
   "outputs": [
    {
     "data": {
      "text/html": [
       "<div>\n",
       "<style scoped>\n",
       "    .dataframe tbody tr th:only-of-type {\n",
       "        vertical-align: middle;\n",
       "    }\n",
       "\n",
       "    .dataframe tbody tr th {\n",
       "        vertical-align: top;\n",
       "    }\n",
       "\n",
       "    .dataframe thead th {\n",
       "        text-align: right;\n",
       "    }\n",
       "</style>\n",
       "<table border=\"1\" class=\"dataframe\">\n",
       "  <thead>\n",
       "    <tr style=\"text-align: right;\">\n",
       "      <th></th>\n",
       "      <th>price</th>\n",
       "      <th>title</th>\n",
       "      <th>loc_string</th>\n",
       "      <th>type</th>\n",
       "      <th>desc</th>\n",
       "      <th>house_size</th>\n",
       "      <th>Number_Bedrooms</th>\n",
       "      <th>Number_Bathrooms</th>\n",
       "      <th>combined</th>\n",
       "    </tr>\n",
       "  </thead>\n",
       "  <tbody>\n",
       "    <tr>\n",
       "      <th>729</th>\n",
       "      <td>350.0</td>\n",
       "      <td>Piso Poblenou. Piso a reformar en rambla del p...</td>\n",
       "      <td>Barcelona - Poblenou</td>\n",
       "      <td>FLAT</td>\n",
       "      <td>¡Presentamos esta vivienda a REFORMAR en la Ra...</td>\n",
       "      <td>82.0</td>\n",
       "      <td>22</td>\n",
       "      <td>1</td>\n",
       "      <td>Piso Poblenou. Piso a reformar en rambla del p...</td>\n",
       "    </tr>\n",
       "  </tbody>\n",
       "</table>\n",
       "</div>"
      ],
      "text/plain": [
       "     price                                              title  \\\n",
       "729  350.0  Piso Poblenou. Piso a reformar en rambla del p...   \n",
       "\n",
       "               loc_string  type  \\\n",
       "729  Barcelona - Poblenou  FLAT   \n",
       "\n",
       "                                                  desc  house_size  \\\n",
       "729  ¡Presentamos esta vivienda a REFORMAR en la Ra...        82.0   \n",
       "\n",
       "     Number_Bedrooms  Number_Bathrooms  \\\n",
       "729               22                 1   \n",
       "\n",
       "                                              combined  \n",
       "729  Piso Poblenou. Piso a reformar en rambla del p...  "
      ]
     },
     "execution_count": 7,
     "metadata": {},
     "output_type": "execute_result"
    }
   ],
   "source": [
    "filtered_rows = train[train['Number_Bedrooms'] == 22]\n",
    "filtered_rows"
   ]
  },
  {
   "cell_type": "code",
   "execution_count": 8,
   "id": "61a8e782-c4fe-45a9-8eb7-e23660f52c70",
   "metadata": {},
   "outputs": [
    {
     "data": {
      "text/plain": [
       "count    866.000000\n",
       "mean       2.697460\n",
       "std        1.020447\n",
       "min        0.000000\n",
       "25%        2.000000\n",
       "50%        3.000000\n",
       "75%        3.000000\n",
       "max        6.000000\n",
       "Name: Number_Bedrooms, dtype: float64"
      ]
     },
     "execution_count": 8,
     "metadata": {},
     "output_type": "execute_result"
    }
   ],
   "source": [
    "train['Number_Bedrooms'] = train['Number_Bedrooms'].replace(22, 2)\n",
    "train.Number_Bedrooms.describe()"
   ]
  },
  {
   "cell_type": "code",
   "execution_count": 9,
   "id": "d1aa8079-53e3-417f-acdb-d234f42ab3d3",
   "metadata": {},
   "outputs": [],
   "source": [
    "test.drop('desc', axis=1, inplace=True)\n",
    "test.drop('title', axis=1, inplace=True)\n",
    "\n",
    "train.drop('desc', axis=1, inplace=True)\n",
    "train.drop('title', axis=1, inplace=True)"
   ]
  },
  {
   "cell_type": "code",
   "execution_count": 10,
   "id": "4efcec97-880c-44f9-b9c7-0a94524cae38",
   "metadata": {},
   "outputs": [
    {
     "data": {
      "text/html": [
       "<div>\n",
       "<style scoped>\n",
       "    .dataframe tbody tr th:only-of-type {\n",
       "        vertical-align: middle;\n",
       "    }\n",
       "\n",
       "    .dataframe tbody tr th {\n",
       "        vertical-align: top;\n",
       "    }\n",
       "\n",
       "    .dataframe thead th {\n",
       "        text-align: right;\n",
       "    }\n",
       "</style>\n",
       "<table border=\"1\" class=\"dataframe\">\n",
       "  <thead>\n",
       "    <tr style=\"text-align: right;\">\n",
       "      <th></th>\n",
       "      <th>price</th>\n",
       "      <th>loc_string</th>\n",
       "      <th>type</th>\n",
       "      <th>house_size</th>\n",
       "      <th>Number_Bedrooms</th>\n",
       "      <th>Number_Bathrooms</th>\n",
       "      <th>combined</th>\n",
       "    </tr>\n",
       "  </thead>\n",
       "  <tbody>\n",
       "    <tr>\n",
       "      <th>0</th>\n",
       "      <td>320.0</td>\n",
       "      <td>Barcelona - Sant Antoni</td>\n",
       "      <td>FLAT</td>\n",
       "      <td>85.0</td>\n",
       "      <td>2</td>\n",
       "      <td>1</td>\n",
       "      <td>Piso Tallers. Piso con 2 habitaciones con asce...</td>\n",
       "    </tr>\n",
       "    <tr>\n",
       "      <th>1</th>\n",
       "      <td>335.0</td>\n",
       "      <td>Barcelona - Dreta de l´Eixample</td>\n",
       "      <td>FLAT</td>\n",
       "      <td>65.0</td>\n",
       "      <td>2</td>\n",
       "      <td>1</td>\n",
       "      <td>Piso C/ de valència. Piso reformado en venta d...</td>\n",
       "    </tr>\n",
       "    <tr>\n",
       "      <th>2</th>\n",
       "      <td>330.0</td>\n",
       "      <td>Barcelona - Dreta de l´Eixample</td>\n",
       "      <td>FLAT</td>\n",
       "      <td>77.0</td>\n",
       "      <td>2</td>\n",
       "      <td>1</td>\n",
       "      <td>Piso en Dreta de l´Eixample. Acogedor piso al ...</td>\n",
       "    </tr>\n",
       "    <tr>\n",
       "      <th>3</th>\n",
       "      <td>435.0</td>\n",
       "      <td>Barcelona - Sant Antoni</td>\n",
       "      <td>FLAT</td>\n",
       "      <td>96.0</td>\n",
       "      <td>3</td>\n",
       "      <td>2</td>\n",
       "      <td>Piso Barcelona - corts catalanes. Soleado, cén...</td>\n",
       "    </tr>\n",
       "    <tr>\n",
       "      <th>4</th>\n",
       "      <td>410.0</td>\n",
       "      <td>Barcelona - Sagrada Família</td>\n",
       "      <td>FLAT</td>\n",
       "      <td>84.0</td>\n",
       "      <td>2</td>\n",
       "      <td>1</td>\n",
       "      <td>Piso en Carrer de sardenya 271. Alto, reformad...</td>\n",
       "    </tr>\n",
       "  </tbody>\n",
       "</table>\n",
       "</div>"
      ],
      "text/plain": [
       "   price                       loc_string  type  house_size  Number_Bedrooms  \\\n",
       "0  320.0          Barcelona - Sant Antoni  FLAT        85.0                2   \n",
       "1  335.0  Barcelona - Dreta de l´Eixample  FLAT        65.0                2   \n",
       "2  330.0  Barcelona - Dreta de l´Eixample  FLAT        77.0                2   \n",
       "3  435.0          Barcelona - Sant Antoni  FLAT        96.0                3   \n",
       "4  410.0      Barcelona - Sagrada Família  FLAT        84.0                2   \n",
       "\n",
       "   Number_Bathrooms                                           combined  \n",
       "0                 1  Piso Tallers. Piso con 2 habitaciones con asce...  \n",
       "1                 1  Piso C/ de valència. Piso reformado en venta d...  \n",
       "2                 1  Piso en Dreta de l´Eixample. Acogedor piso al ...  \n",
       "3                 2  Piso Barcelona - corts catalanes. Soleado, cén...  \n",
       "4                 1  Piso en Carrer de sardenya 271. Alto, reformad...  "
      ]
     },
     "execution_count": 10,
     "metadata": {},
     "output_type": "execute_result"
    }
   ],
   "source": [
    "train.head()"
   ]
  },
  {
   "cell_type": "code",
   "execution_count": 11,
   "id": "29d8f1cb-7d21-4951-b903-12151bd97be9",
   "metadata": {},
   "outputs": [
    {
     "data": {
      "text/html": [
       "<div>\n",
       "<style scoped>\n",
       "    .dataframe tbody tr th:only-of-type {\n",
       "        vertical-align: middle;\n",
       "    }\n",
       "\n",
       "    .dataframe tbody tr th {\n",
       "        vertical-align: top;\n",
       "    }\n",
       "\n",
       "    .dataframe thead th {\n",
       "        text-align: right;\n",
       "    }\n",
       "</style>\n",
       "<table border=\"1\" class=\"dataframe\">\n",
       "  <thead>\n",
       "    <tr style=\"text-align: right;\">\n",
       "      <th></th>\n",
       "      <th>loc_string</th>\n",
       "      <th>type</th>\n",
       "      <th>house_size</th>\n",
       "      <th>Number_Bedrooms</th>\n",
       "      <th>Number_Bathrooms</th>\n",
       "      <th>combined</th>\n",
       "    </tr>\n",
       "  </thead>\n",
       "  <tbody>\n",
       "    <tr>\n",
       "      <th>0</th>\n",
       "      <td>Barcelona - El Parc i la Llacuna del Poblenou</td>\n",
       "      <td>FLAT</td>\n",
       "      <td>87.0</td>\n",
       "      <td>4</td>\n",
       "      <td>1</td>\n",
       "      <td>Piso Carrer de llull. Piso con 4 habitaciones ...</td>\n",
       "    </tr>\n",
       "    <tr>\n",
       "      <th>1</th>\n",
       "      <td>Barcelona - Poblenou</td>\n",
       "      <td>FLAT</td>\n",
       "      <td>78.0</td>\n",
       "      <td>4</td>\n",
       "      <td>1</td>\n",
       "      <td>Piso Diagonal. Luminoso piso de 4 habitaciones...</td>\n",
       "    </tr>\n",
       "    <tr>\n",
       "      <th>2</th>\n",
       "      <td>Barcelona - L´Antiga Esquerra de l´Eixample</td>\n",
       "      <td>FLAT</td>\n",
       "      <td>65.0</td>\n",
       "      <td>1</td>\n",
       "      <td>1</td>\n",
       "      <td>Piso Carrer del consell de cent. Piso amueblad...</td>\n",
       "    </tr>\n",
       "    <tr>\n",
       "      <th>3</th>\n",
       "      <td>Barcelona - Poblenou</td>\n",
       "      <td>FLAT</td>\n",
       "      <td>88.0</td>\n",
       "      <td>3</td>\n",
       "      <td>1</td>\n",
       "      <td>Piso Castanys. Carrer castanys Piso en pleno c...</td>\n",
       "    </tr>\n",
       "    <tr>\n",
       "      <th>4</th>\n",
       "      <td>Barcelona - Sant Antoni</td>\n",
       "      <td>FLAT</td>\n",
       "      <td>82.0</td>\n",
       "      <td>2</td>\n",
       "      <td>1</td>\n",
       "      <td>Piso Carrer de casanova. Piso con 2 habitacion...</td>\n",
       "    </tr>\n",
       "  </tbody>\n",
       "</table>\n",
       "</div>"
      ],
      "text/plain": [
       "                                      loc_string  type  house_size  \\\n",
       "0  Barcelona - El Parc i la Llacuna del Poblenou  FLAT        87.0   \n",
       "1                           Barcelona - Poblenou  FLAT        78.0   \n",
       "2    Barcelona - L´Antiga Esquerra de l´Eixample  FLAT        65.0   \n",
       "3                           Barcelona - Poblenou  FLAT        88.0   \n",
       "4                        Barcelona - Sant Antoni  FLAT        82.0   \n",
       "\n",
       "   Number_Bedrooms  Number_Bathrooms  \\\n",
       "0                4                 1   \n",
       "1                4                 1   \n",
       "2                1                 1   \n",
       "3                3                 1   \n",
       "4                2                 1   \n",
       "\n",
       "                                            combined  \n",
       "0  Piso Carrer de llull. Piso con 4 habitaciones ...  \n",
       "1  Piso Diagonal. Luminoso piso de 4 habitaciones...  \n",
       "2  Piso Carrer del consell de cent. Piso amueblad...  \n",
       "3  Piso Castanys. Carrer castanys Piso en pleno c...  \n",
       "4  Piso Carrer de casanova. Piso con 2 habitacion...  "
      ]
     },
     "execution_count": 11,
     "metadata": {},
     "output_type": "execute_result"
    }
   ],
   "source": [
    "test.head()"
   ]
  },
  {
   "cell_type": "markdown",
   "id": "f00d2a86-7576-4845-9052-316a49f17a07",
   "metadata": {},
   "source": [
    "## 3. Text preprocess by using spaCy with TFIDF"
   ]
  },
  {
   "cell_type": "code",
   "execution_count": 12,
   "id": "ffd43b91-0c3b-4cd0-9023-0ae4c88d9481",
   "metadata": {},
   "outputs": [
    {
     "name": "stdout",
     "output_type": "stream",
     "text": [
      "Execution time: 262.0185730457306 seconds\n"
     ]
    }
   ],
   "source": [
    "import time\n",
    "\n",
    "# Start timing\n",
    "start_time = time.time()\n",
    "\n",
    "\n",
    "# Load the Spanish spacy model\n",
    "nlp = spacy.load(\"es_dep_news_trf\")\n",
    "#nlp = spacy.load(\"en_core_web_trf\")\n",
    "\n",
    "# Example text preprocessing function\n",
    "def preprocess_text(text):\n",
    "    doc = nlp(text.lower())\n",
    "    result = []\n",
    "    for token in doc:\n",
    "        if token.is_alpha and not token.is_stop:\n",
    "            result.append(token.lemma_)\n",
    "    return ' '.join(result)\n",
    "\n",
    "\n",
    "# Apply preprocessing to the description feature\n",
    "train['desc_processed'] = train['combined'].apply(preprocess_text)\n",
    "test['desc_processed'] = test['combined'].apply(preprocess_text)\n",
    "\n",
    "train['loc_string_processed'] = train['loc_string'].apply(preprocess_text)\n",
    "test['loc_string_processed'] = test['loc_string'].apply(preprocess_text)\n",
    "\n",
    "train['type_processed'] = train['type'].apply(preprocess_text)\n",
    "test['type_processed'] = test['type'].apply(preprocess_text)\n",
    "\n",
    "\n",
    "# End timing\n",
    "end_time = time.time()\n",
    "\n",
    "# Calculate the execution time\n",
    "execution_time = end_time - start_time\n",
    "\n",
    "print(f\"Execution time: {execution_time} seconds\")"
   ]
  },
  {
   "cell_type": "code",
   "execution_count": 13,
   "id": "dfa452fc-8237-4324-bf8c-4a9edd2154dd",
   "metadata": {},
   "outputs": [],
   "source": [
    "numeric_features_test = test.select_dtypes(include=['float64', 'int64'])\n",
    "numeric_features = train.select_dtypes(include=['float64', 'int64']).drop(columns=['price'])"
   ]
  },
  {
   "cell_type": "code",
   "execution_count": 14,
   "id": "d7aba90e-0c84-4cf0-b26a-a3dab654060c",
   "metadata": {},
   "outputs": [],
   "source": [
    "# Initialize TF-IDF Vectorizer for each text feature\n",
    "tfidf_desc = TfidfVectorizer()\n",
    "tfidf_title = TfidfVectorizer()\n",
    "tfidf_loc = TfidfVectorizer()\n",
    "tfidf_type = TfidfVectorizer()\n",
    "\n",
    "# Fit on training data and transform both training and test data using the fitted vectorizer\n",
    "X_text_tfidf_desc_train = tfidf_desc.fit_transform(train['desc_processed']).toarray()\n",
    "X_text_tfidf_desc_test = tfidf_desc.transform(test['desc_processed']).toarray()\n",
    "\n",
    "X_text_tfidf_loc_train = tfidf_loc.fit_transform(train['loc_string_processed']).toarray()\n",
    "X_text_tfidf_loc_test = tfidf_loc.transform(test['loc_string_processed']).toarray()\n",
    "\n",
    "X_text_tfidf_type_train = tfidf_type.fit_transform(train['type_processed']).toarray()\n",
    "X_text_tfidf_type_test = tfidf_type.transform(test['type_processed']).toarray()\n",
    "\n",
    "X_combined_train = np.hstack([numeric_features, X_text_tfidf_desc_train, X_text_tfidf_loc_train, X_text_tfidf_type_train])\n",
    "X_combined_test = np.hstack([numeric_features_test, X_text_tfidf_desc_test, X_text_tfidf_loc_test, X_text_tfidf_type_test])"
   ]
  },
  {
   "cell_type": "code",
   "execution_count": 15,
   "id": "5be88782-2e15-40ea-b3a1-94656cd5973f",
   "metadata": {},
   "outputs": [
    {
     "data": {
      "text/plain": [
       "((866, 4802), (132, 4802))"
      ]
     },
     "execution_count": 15,
     "metadata": {},
     "output_type": "execute_result"
    }
   ],
   "source": [
    "X_combined_train.shape, X_combined_test.shape"
   ]
  },
  {
   "cell_type": "markdown",
   "id": "aa1164c2-a39c-47f7-9093-8506f2820b7e",
   "metadata": {},
   "source": [
    "## 4. Convert into pkl file for the future use"
   ]
  },
  {
   "cell_type": "code",
   "execution_count": 16,
   "id": "e0205083-b963-42f8-8ef3-c8b5aa665fd5",
   "metadata": {},
   "outputs": [
    {
     "name": "stdout",
     "output_type": "stream",
     "text": [
      "[[85.  2.  1. ...  0.  0.  0.]\n",
      " [65.  2.  1. ...  0.  0.  0.]\n",
      " [77.  2.  1. ...  0.  0.  0.]\n",
      " ...\n",
      " [79.  4.  2. ...  0.  0.  0.]\n",
      " [63.  1.  1. ...  0.  0.  0.]\n",
      " [80.  2.  1. ...  0.  0.  0.]]\n"
     ]
    }
   ],
   "source": [
    "import pickle\n",
    "\n",
    "# Open the pickle file in binary read mode\n",
    "with open('train_processed.pkl', 'rb') as file:\n",
    "    # Deserialize and read the data\n",
    "    X_combined_train = pickle.load(file)\n",
    "\n",
    "# Open the pickle file in binary read mode\n",
    "with open('test_processed.pkl', 'rb') as file:\n",
    "    # Deserialize and read the data\n",
    "    X_combined_test = pickle.load(file)\n",
    "\n",
    "print(X_combined_train)\n"
   ]
  },
  {
   "cell_type": "code",
   "execution_count": 17,
   "id": "8b458690-4479-430d-b659-fc322470fead",
   "metadata": {},
   "outputs": [],
   "source": [
    "# Split dataset\n",
    "y = train['price'].values\n",
    "X_train, X_test, y_train, y_test = train_test_split(X_combined_train, y, test_size=0.2, random_state=100)"
   ]
  },
  {
   "cell_type": "markdown",
   "id": "a95edd81-a1d0-4ab2-a73c-7d13e1fdeb32",
   "metadata": {},
   "source": [
    "## 5. Modeling - Stacking"
   ]
  },
  {
   "cell_type": "code",
   "execution_count": 38,
   "id": "67bca3ca-665f-4c8e-93e1-4c569d51953e",
   "metadata": {},
   "outputs": [
    {
     "name": "stdout",
     "output_type": "stream",
     "text": [
      "Combination: ['extra_trees', 'gradient_boosting'], Score: 0.6307514622154037\n",
      "Combination: ['extra_trees', 'catboost'], Score: 0.6411786383051952\n",
      "Combination: ['extra_trees', 'ridge'], Score: 0.6526035396344566\n",
      "Combination: ['gradient_boosting', 'catboost'], Score: 0.6217245601941288\n",
      "Combination: ['gradient_boosting', 'ridge'], Score: 0.6468414201768733\n",
      "Combination: ['catboost', 'ridge'], Score: 0.6485071167691157\n",
      "Combination: ['extra_trees', 'gradient_boosting', 'catboost'], Score: 0.6406804999922384\n",
      "Combination: ['extra_trees', 'gradient_boosting', 'ridge'], Score: 0.6537939093904985\n",
      "Combination: ['extra_trees', 'catboost', 'ridge'], Score: 0.6571799856503115\n",
      "Combination: ['gradient_boosting', 'catboost', 'ridge'], Score: 0.6512336256188747\n",
      "Combination: ['extra_trees', 'gradient_boosting', 'catboost', 'ridge'], Score: 0.6564765010126504\n",
      "Best combination: ['extra_trees', 'catboost', 'ridge'], Best Score: 0.6571799856503115\n"
     ]
    }
   ],
   "source": [
    "from itertools import combinations\n",
    "from sklearn.model_selection import cross_val_score, train_test_split\n",
    "from sklearn.ensemble import StackingRegressor, RandomForestRegressor, GradientBoostingRegressor, ExtraTreesRegressor\n",
    "from sklearn.linear_model import LinearRegression, Ridge\n",
    "from xgboost import XGBRegressor\n",
    "import numpy as np\n",
    "from catboost import CatBoostRegressor\n",
    "\n",
    "# Define potential base models\n",
    "base_model_candidates = {\n",
    "    'extra_trees': ExtraTreesRegressor(n_estimators=100, random_state=42),\n",
    "    'gradient_boosting': GradientBoostingRegressor(n_estimators=100, random_state=42),\n",
    "    'catboost': CatBoostRegressor(n_estimators=100, random_state=42, verbose=0),  # verbose=0 to silence training output\n",
    "    'ridge': Ridge(random_state=42)\n",
    "}\n",
    "\n",
    "# Function to evaluate a model combination\n",
    "def evaluate_model_combination(model_combination):\n",
    "    base_models = [(name, model) for name, model in model_combination]\n",
    "    # Use XGBRegressor as the final estimator, this needs correction as per the comment\n",
    "    stacking_ensemble = StackingRegressor(estimators=base_models, final_estimator=LinearRegression(), cv=5)\n",
    "    score = np.mean(cross_val_score(stacking_ensemble, X_train, y_train, cv=5, scoring='r2'))\n",
    "    return score\n",
    "\n",
    "# Evaluate all possible combinations of the base models, starting from combinations of two\n",
    "best_score = -np.inf\n",
    "best_combination = None\n",
    "\n",
    "for L in range(2, len(base_model_candidates) + 1):  # Start from 2 to skip single model evaluations\n",
    "    for subset in combinations(base_model_candidates.items(), L):\n",
    "        score = evaluate_model_combination(subset)\n",
    "        if score > best_score:\n",
    "            best_score = score\n",
    "            best_combination = subset\n",
    "        print(f\"Combination: {[name for name, _ in subset]}, Score: {score}\")\n",
    "\n",
    "print(f\"Best combination: {[name for name, _ in best_combination]}, Best Score: {best_score}\")\n"
   ]
  },
  {
   "cell_type": "code",
   "execution_count": 39,
   "id": "6674098f-5aa9-4774-b0a7-ab6c5c6a3f74",
   "metadata": {},
   "outputs": [
    {
     "data": {
      "text/plain": [
       "(('extra_trees', ExtraTreesRegressor(random_state=42)),\n",
       " ('catboost', <catboost.core.CatBoostRegressor at 0x2afca2b90>),\n",
       " ('ridge', Ridge(random_state=42)))"
      ]
     },
     "execution_count": 39,
     "metadata": {},
     "output_type": "execute_result"
    }
   ],
   "source": [
    "best_combination"
   ]
  },
  {
   "cell_type": "code",
   "execution_count": 23,
   "id": "3581654a-296c-419d-a57c-a69155df7852",
   "metadata": {},
   "outputs": [],
   "source": [
    "from sklearn.ensemble import StackingRegressor, RandomForestRegressor, GradientBoostingRegressor, ExtraTreesRegressor\n",
    "from sklearn.linear_model import LinearRegression, Ridge\n",
    "\n",
    "# Define the best base models as found from your evaluation\n",
    "best_base_models = [\n",
    "    ('extra_trees', ExtraTreesRegressor(n_estimators=100, random_state=42)),\n",
    "    ('catboost', CatBoostRegressor(n_estimators=100, random_state=42, verbose=0)),\n",
    "    ('ridge', Ridge(random_state=42))\n",
    "]\n",
    "\n",
    "# Initialize the Stacking Regressor with LinearRegression as the final estimator\n",
    "final_stacking_ensemble = StackingRegressor(\n",
    "    estimators=best_base_models, \n",
    "    final_estimator=LinearRegression(), \n",
    "    cv=5\n",
    ")\n"
   ]
  },
  {
   "cell_type": "code",
   "execution_count": 24,
   "id": "a3c60ae6-ae42-4a17-bdfe-312c745fefbd",
   "metadata": {},
   "outputs": [
    {
     "data": {
      "text/html": [
       "<style>#sk-container-id-1 {color: black;}#sk-container-id-1 pre{padding: 0;}#sk-container-id-1 div.sk-toggleable {background-color: white;}#sk-container-id-1 label.sk-toggleable__label {cursor: pointer;display: block;width: 100%;margin-bottom: 0;padding: 0.3em;box-sizing: border-box;text-align: center;}#sk-container-id-1 label.sk-toggleable__label-arrow:before {content: \"▸\";float: left;margin-right: 0.25em;color: #696969;}#sk-container-id-1 label.sk-toggleable__label-arrow:hover:before {color: black;}#sk-container-id-1 div.sk-estimator:hover label.sk-toggleable__label-arrow:before {color: black;}#sk-container-id-1 div.sk-toggleable__content {max-height: 0;max-width: 0;overflow: hidden;text-align: left;background-color: #f0f8ff;}#sk-container-id-1 div.sk-toggleable__content pre {margin: 0.2em;color: black;border-radius: 0.25em;background-color: #f0f8ff;}#sk-container-id-1 input.sk-toggleable__control:checked~div.sk-toggleable__content {max-height: 200px;max-width: 100%;overflow: auto;}#sk-container-id-1 input.sk-toggleable__control:checked~label.sk-toggleable__label-arrow:before {content: \"▾\";}#sk-container-id-1 div.sk-estimator input.sk-toggleable__control:checked~label.sk-toggleable__label {background-color: #d4ebff;}#sk-container-id-1 div.sk-label input.sk-toggleable__control:checked~label.sk-toggleable__label {background-color: #d4ebff;}#sk-container-id-1 input.sk-hidden--visually {border: 0;clip: rect(1px 1px 1px 1px);clip: rect(1px, 1px, 1px, 1px);height: 1px;margin: -1px;overflow: hidden;padding: 0;position: absolute;width: 1px;}#sk-container-id-1 div.sk-estimator {font-family: monospace;background-color: #f0f8ff;border: 1px dotted black;border-radius: 0.25em;box-sizing: border-box;margin-bottom: 0.5em;}#sk-container-id-1 div.sk-estimator:hover {background-color: #d4ebff;}#sk-container-id-1 div.sk-parallel-item::after {content: \"\";width: 100%;border-bottom: 1px solid gray;flex-grow: 1;}#sk-container-id-1 div.sk-label:hover label.sk-toggleable__label {background-color: #d4ebff;}#sk-container-id-1 div.sk-serial::before {content: \"\";position: absolute;border-left: 1px solid gray;box-sizing: border-box;top: 0;bottom: 0;left: 50%;z-index: 0;}#sk-container-id-1 div.sk-serial {display: flex;flex-direction: column;align-items: center;background-color: white;padding-right: 0.2em;padding-left: 0.2em;position: relative;}#sk-container-id-1 div.sk-item {position: relative;z-index: 1;}#sk-container-id-1 div.sk-parallel {display: flex;align-items: stretch;justify-content: center;background-color: white;position: relative;}#sk-container-id-1 div.sk-item::before, #sk-container-id-1 div.sk-parallel-item::before {content: \"\";position: absolute;border-left: 1px solid gray;box-sizing: border-box;top: 0;bottom: 0;left: 50%;z-index: -1;}#sk-container-id-1 div.sk-parallel-item {display: flex;flex-direction: column;z-index: 1;position: relative;background-color: white;}#sk-container-id-1 div.sk-parallel-item:first-child::after {align-self: flex-end;width: 50%;}#sk-container-id-1 div.sk-parallel-item:last-child::after {align-self: flex-start;width: 50%;}#sk-container-id-1 div.sk-parallel-item:only-child::after {width: 0;}#sk-container-id-1 div.sk-dashed-wrapped {border: 1px dashed gray;margin: 0 0.4em 0.5em 0.4em;box-sizing: border-box;padding-bottom: 0.4em;background-color: white;}#sk-container-id-1 div.sk-label label {font-family: monospace;font-weight: bold;display: inline-block;line-height: 1.2em;}#sk-container-id-1 div.sk-label-container {text-align: center;}#sk-container-id-1 div.sk-container {/* jupyter's `normalize.less` sets `[hidden] { display: none; }` but bootstrap.min.css set `[hidden] { display: none !important; }` so we also need the `!important` here to be able to override the default hidden behavior on the sphinx rendered scikit-learn.org. See: https://github.com/scikit-learn/scikit-learn/issues/21755 */display: inline-block !important;position: relative;}#sk-container-id-1 div.sk-text-repr-fallback {display: none;}</style><div id=\"sk-container-id-1\" class=\"sk-top-container\"><div class=\"sk-text-repr-fallback\"><pre>StackingRegressor(cv=5,\n",
       "                  estimators=[(&#x27;extra_trees&#x27;,\n",
       "                               ExtraTreesRegressor(random_state=42)),\n",
       "                              (&#x27;catboost&#x27;,\n",
       "                               &lt;catboost.core.CatBoostRegressor object at 0x2bed4c3d0&gt;),\n",
       "                              (&#x27;ridge&#x27;, Ridge(random_state=42))],\n",
       "                  final_estimator=LinearRegression())</pre><b>In a Jupyter environment, please rerun this cell to show the HTML representation or trust the notebook. <br />On GitHub, the HTML representation is unable to render, please try loading this page with nbviewer.org.</b></div><div class=\"sk-container\" hidden><div class=\"sk-item sk-dashed-wrapped\"><div class=\"sk-label-container\"><div class=\"sk-label sk-toggleable\"><input class=\"sk-toggleable__control sk-hidden--visually\" id=\"sk-estimator-id-1\" type=\"checkbox\" ><label for=\"sk-estimator-id-1\" class=\"sk-toggleable__label sk-toggleable__label-arrow\">StackingRegressor</label><div class=\"sk-toggleable__content\"><pre>StackingRegressor(cv=5,\n",
       "                  estimators=[(&#x27;extra_trees&#x27;,\n",
       "                               ExtraTreesRegressor(random_state=42)),\n",
       "                              (&#x27;catboost&#x27;,\n",
       "                               &lt;catboost.core.CatBoostRegressor object at 0x2bed4c3d0&gt;),\n",
       "                              (&#x27;ridge&#x27;, Ridge(random_state=42))],\n",
       "                  final_estimator=LinearRegression())</pre></div></div></div><div class=\"sk-serial\"><div class=\"sk-item\"><div class=\"sk-parallel\"><div class=\"sk-parallel-item\"><div class=\"sk-item\"><div class=\"sk-label-container\"><div class=\"sk-label sk-toggleable\"><label>extra_trees</label></div></div><div class=\"sk-serial\"><div class=\"sk-item\"><div class=\"sk-estimator sk-toggleable\"><input class=\"sk-toggleable__control sk-hidden--visually\" id=\"sk-estimator-id-2\" type=\"checkbox\" ><label for=\"sk-estimator-id-2\" class=\"sk-toggleable__label sk-toggleable__label-arrow\">ExtraTreesRegressor</label><div class=\"sk-toggleable__content\"><pre>ExtraTreesRegressor(random_state=42)</pre></div></div></div></div></div></div><div class=\"sk-parallel-item\"><div class=\"sk-item\"><div class=\"sk-label-container\"><div class=\"sk-label sk-toggleable\"><label>catboost</label></div></div><div class=\"sk-serial\"><div class=\"sk-item\"><div class=\"sk-estimator sk-toggleable\"><input class=\"sk-toggleable__control sk-hidden--visually\" id=\"sk-estimator-id-3\" type=\"checkbox\" ><label for=\"sk-estimator-id-3\" class=\"sk-toggleable__label sk-toggleable__label-arrow\">CatBoostRegressor</label><div class=\"sk-toggleable__content\"><pre>&lt;catboost.core.CatBoostRegressor object at 0x2bed4c3d0&gt;</pre></div></div></div></div></div></div><div class=\"sk-parallel-item\"><div class=\"sk-item\"><div class=\"sk-label-container\"><div class=\"sk-label sk-toggleable\"><label>ridge</label></div></div><div class=\"sk-serial\"><div class=\"sk-item\"><div class=\"sk-estimator sk-toggleable\"><input class=\"sk-toggleable__control sk-hidden--visually\" id=\"sk-estimator-id-4\" type=\"checkbox\" ><label for=\"sk-estimator-id-4\" class=\"sk-toggleable__label sk-toggleable__label-arrow\">Ridge</label><div class=\"sk-toggleable__content\"><pre>Ridge(random_state=42)</pre></div></div></div></div></div></div></div></div><div class=\"sk-item\"><div class=\"sk-parallel\"><div class=\"sk-parallel-item\"><div class=\"sk-item\"><div class=\"sk-label-container\"><div class=\"sk-label sk-toggleable\"><label>final_estimator</label></div></div><div class=\"sk-serial\"><div class=\"sk-item\"><div class=\"sk-estimator sk-toggleable\"><input class=\"sk-toggleable__control sk-hidden--visually\" id=\"sk-estimator-id-5\" type=\"checkbox\" ><label for=\"sk-estimator-id-5\" class=\"sk-toggleable__label sk-toggleable__label-arrow\">LinearRegression</label><div class=\"sk-toggleable__content\"><pre>LinearRegression()</pre></div></div></div></div></div></div></div></div></div></div></div></div>"
      ],
      "text/plain": [
       "StackingRegressor(cv=5,\n",
       "                  estimators=[('extra_trees',\n",
       "                               ExtraTreesRegressor(random_state=42)),\n",
       "                              ('catboost',\n",
       "                               <catboost.core.CatBoostRegressor object at 0x2bed4c3d0>),\n",
       "                              ('ridge', Ridge(random_state=42))],\n",
       "                  final_estimator=LinearRegression())"
      ]
     },
     "execution_count": 24,
     "metadata": {},
     "output_type": "execute_result"
    }
   ],
   "source": [
    "final_stacking_ensemble.fit(X_train, y_train)"
   ]
  },
  {
   "cell_type": "code",
   "execution_count": 25,
   "id": "cdbc5516-9a13-413a-a09b-5c9624935d70",
   "metadata": {},
   "outputs": [
    {
     "data": {
      "text/plain": [
       "132"
      ]
     },
     "execution_count": 25,
     "metadata": {},
     "output_type": "execute_result"
    }
   ],
   "source": [
    "predictions = final_stacking_ensemble.predict(X_combined_test)\n",
    "len(predictions)"
   ]
  },
  {
   "cell_type": "code",
   "execution_count": 26,
   "id": "af685ff3-d71d-48ae-818a-1043bbe1a51e",
   "metadata": {},
   "outputs": [],
   "source": [
    "# Create a DataFrame with an ID column and a Price column\n",
    "submission = pd.DataFrame({\n",
    "    'id': range(0, len(predictions)),\n",
    "    'price': predictions\n",
    "})\n",
    "submission.to_csv('solution.csv', index=False)"
   ]
  },
  {
   "cell_type": "code",
   "execution_count": 27,
   "id": "48df4fbc-9f3e-41b8-932c-2a602fda5af1",
   "metadata": {},
   "outputs": [
    {
     "data": {
      "text/html": [
       "<div>\n",
       "<style scoped>\n",
       "    .dataframe tbody tr th:only-of-type {\n",
       "        vertical-align: middle;\n",
       "    }\n",
       "\n",
       "    .dataframe tbody tr th {\n",
       "        vertical-align: top;\n",
       "    }\n",
       "\n",
       "    .dataframe thead th {\n",
       "        text-align: right;\n",
       "    }\n",
       "</style>\n",
       "<table border=\"1\" class=\"dataframe\">\n",
       "  <thead>\n",
       "    <tr style=\"text-align: right;\">\n",
       "      <th></th>\n",
       "      <th>id</th>\n",
       "      <th>price</th>\n",
       "    </tr>\n",
       "  </thead>\n",
       "  <tbody>\n",
       "    <tr>\n",
       "      <th>0</th>\n",
       "      <td>0</td>\n",
       "      <td>346.095305</td>\n",
       "    </tr>\n",
       "    <tr>\n",
       "      <th>1</th>\n",
       "      <td>1</td>\n",
       "      <td>345.848873</td>\n",
       "    </tr>\n",
       "    <tr>\n",
       "      <th>2</th>\n",
       "      <td>2</td>\n",
       "      <td>297.301436</td>\n",
       "    </tr>\n",
       "    <tr>\n",
       "      <th>3</th>\n",
       "      <td>3</td>\n",
       "      <td>340.390469</td>\n",
       "    </tr>\n",
       "    <tr>\n",
       "      <th>4</th>\n",
       "      <td>4</td>\n",
       "      <td>342.737770</td>\n",
       "    </tr>\n",
       "    <tr>\n",
       "      <th>...</th>\n",
       "      <td>...</td>\n",
       "      <td>...</td>\n",
       "    </tr>\n",
       "    <tr>\n",
       "      <th>127</th>\n",
       "      <td>127</td>\n",
       "      <td>374.099425</td>\n",
       "    </tr>\n",
       "    <tr>\n",
       "      <th>128</th>\n",
       "      <td>128</td>\n",
       "      <td>300.324632</td>\n",
       "    </tr>\n",
       "    <tr>\n",
       "      <th>129</th>\n",
       "      <td>129</td>\n",
       "      <td>301.596978</td>\n",
       "    </tr>\n",
       "    <tr>\n",
       "      <th>130</th>\n",
       "      <td>130</td>\n",
       "      <td>354.542687</td>\n",
       "    </tr>\n",
       "    <tr>\n",
       "      <th>131</th>\n",
       "      <td>131</td>\n",
       "      <td>359.270355</td>\n",
       "    </tr>\n",
       "  </tbody>\n",
       "</table>\n",
       "<p>132 rows × 2 columns</p>\n",
       "</div>"
      ],
      "text/plain": [
       "      id       price\n",
       "0      0  346.095305\n",
       "1      1  345.848873\n",
       "2      2  297.301436\n",
       "3      3  340.390469\n",
       "4      4  342.737770\n",
       "..   ...         ...\n",
       "127  127  374.099425\n",
       "128  128  300.324632\n",
       "129  129  301.596978\n",
       "130  130  354.542687\n",
       "131  131  359.270355\n",
       "\n",
       "[132 rows x 2 columns]"
      ]
     },
     "execution_count": 27,
     "metadata": {},
     "output_type": "execute_result"
    }
   ],
   "source": [
    "submission"
   ]
  }
 ],
 "metadata": {
  "colab": {
   "provenance": []
  },
  "kernelspec": {
   "display_name": "Python 3 (ipykernel)",
   "language": "python",
   "name": "python3"
  },
  "language_info": {
   "codemirror_mode": {
    "name": "ipython",
    "version": 3
   },
   "file_extension": ".py",
   "mimetype": "text/x-python",
   "name": "python",
   "nbconvert_exporter": "python",
   "pygments_lexer": "ipython3",
   "version": "3.11.5"
  }
 },
 "nbformat": 4,
 "nbformat_minor": 5
}
